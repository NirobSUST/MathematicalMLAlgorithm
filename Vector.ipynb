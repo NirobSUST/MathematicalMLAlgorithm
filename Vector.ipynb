{
 "cells": [
  {
   "cell_type": "markdown",
   "id": "602ccd50",
   "metadata": {},
   "source": [
    "# Basic Vector input output"
   ]
  },
  {
   "cell_type": "code",
   "execution_count": 38,
   "id": "9834bbdf",
   "metadata": {},
   "outputs": [
    {
     "name": "stdout",
     "output_type": "stream",
     "text": [
      "Requirement already satisfied: altair in c:\\anaconda\\lib\\site-packages (4.2.0)\n",
      "Requirement already satisfied: jsonschema>=3.0 in c:\\anaconda\\lib\\site-packages (from altair) (3.2.0)\n",
      "Requirement already satisfied: jinja2 in c:\\anaconda\\lib\\site-packages (from altair) (3.1.1)\n",
      "Requirement already satisfied: pandas>=0.18 in c:\\anaconda\\lib\\site-packages (from altair) (1.4.3)\n",
      "Requirement already satisfied: toolz in c:\\anaconda\\lib\\site-packages (from altair) (0.11.2)\n",
      "Requirement already satisfied: numpy in c:\\anaconda\\lib\\site-packages (from altair) (1.20.3)\n",
      "Requirement already satisfied: entrypoints in c:\\anaconda\\lib\\site-packages (from altair) (0.4)\n",
      "Requirement already satisfied: pyrsistent>=0.14.0 in c:\\anaconda\\lib\\site-packages (from jsonschema>=3.0->altair) (0.18.0)\n",
      "Requirement already satisfied: attrs>=17.4.0 in c:\\anaconda\\lib\\site-packages (from jsonschema>=3.0->altair) (21.4.0)\n",
      "Requirement already satisfied: six>=1.11.0 in c:\\anaconda\\lib\\site-packages (from jsonschema>=3.0->altair) (1.16.0)\n",
      "Requirement already satisfied: setuptools in c:\\anaconda\\lib\\site-packages (from jsonschema>=3.0->altair) (58.0.4)\n",
      "Requirement already satisfied: python-dateutil>=2.8.1 in c:\\anaconda\\lib\\site-packages (from pandas>=0.18->altair) (2.8.2)\n",
      "Requirement already satisfied: pytz>=2020.1 in c:\\anaconda\\lib\\site-packages (from pandas>=0.18->altair) (2022.1)\n",
      "Requirement already satisfied: MarkupSafe>=2.0 in c:\\anaconda\\lib\\site-packages (from jinja2->altair) (2.1.1)\n",
      "Note: you may need to restart the kernel to use updated packages.\n"
     ]
    }
   ],
   "source": [
    "pip install altair"
   ]
  },
  {
   "cell_type": "code",
   "execution_count": 39,
   "id": "19cea8d5",
   "metadata": {},
   "outputs": [],
   "source": [
    "import numpy as np\n",
    "import pandas as pd\n",
    "import altair as alt"
   ]
  },
  {
   "cell_type": "code",
   "execution_count": 40,
   "id": "a35541b1",
   "metadata": {},
   "outputs": [],
   "source": [
    "x = np.array([[1],\n",
    "              [2],\n",
    "              [3]])"
   ]
  },
  {
   "cell_type": "code",
   "execution_count": 41,
   "id": "898226dd",
   "metadata": {},
   "outputs": [
    {
     "data": {
      "text/plain": [
       "(3, 1)"
      ]
     },
     "execution_count": 41,
     "metadata": {},
     "output_type": "execute_result"
    }
   ],
   "source": [
    "x.shape"
   ]
  },
  {
   "cell_type": "code",
   "execution_count": 42,
   "id": "ec32e05e",
   "metadata": {},
   "outputs": [
    {
     "name": "stdout",
     "output_type": "stream",
     "text": [
      "A 3-dimentional vector:\n",
      " [[1]\n",
      " [2]\n",
      " [3]]\n"
     ]
    }
   ],
   "source": [
    "print(f\"A 3-dimentional vector:\\n {x}\")"
   ]
  },
  {
   "cell_type": "markdown",
   "id": "cc83dc95",
   "metadata": {},
   "source": [
    "## Vector Addition"
   ]
  },
  {
   "cell_type": "code",
   "execution_count": 43,
   "id": "6459e508",
   "metadata": {},
   "outputs": [],
   "source": [
    "x = y = np.array([[1],\n",
    "                  [2],\n",
    "                  [3]])"
   ]
  },
  {
   "cell_type": "code",
   "execution_count": 44,
   "id": "c9dfbafe",
   "metadata": {},
   "outputs": [
    {
     "data": {
      "text/plain": [
       "array([[2],\n",
       "       [4],\n",
       "       [6]])"
      ]
     },
     "execution_count": 44,
     "metadata": {},
     "output_type": "execute_result"
    }
   ],
   "source": [
    "x + y"
   ]
  },
  {
   "cell_type": "code",
   "execution_count": 45,
   "id": "9c2e85f6",
   "metadata": {},
   "outputs": [
    {
     "data": {
      "text/plain": [
       "array([[2],\n",
       "       [4],\n",
       "       [6]])"
      ]
     },
     "execution_count": 45,
     "metadata": {},
     "output_type": "execute_result"
    }
   ],
   "source": [
    "np.add( x, y )"
   ]
  },
  {
   "cell_type": "markdown",
   "id": "b805284e",
   "metadata": {},
   "source": [
    "## Scalar Multiplication"
   ]
  },
  {
   "cell_type": "code",
   "execution_count": 46,
   "id": "7f009d93",
   "metadata": {},
   "outputs": [],
   "source": [
    "alpha = 5\n",
    "x = np.array([[1],\n",
    "             [2],\n",
    "             [3]])"
   ]
  },
  {
   "cell_type": "code",
   "execution_count": 47,
   "id": "15ac1757",
   "metadata": {},
   "outputs": [
    {
     "data": {
      "text/plain": [
       "array([[ 5],\n",
       "       [10],\n",
       "       [15]])"
      ]
     },
     "execution_count": 47,
     "metadata": {},
     "output_type": "execute_result"
    }
   ],
   "source": [
    "alpha * x"
   ]
  },
  {
   "cell_type": "markdown",
   "id": "6fcde244",
   "metadata": {},
   "source": [
    "## Linear Combinations"
   ]
  },
  {
   "cell_type": "code",
   "execution_count": 48,
   "id": "0f801874",
   "metadata": {},
   "outputs": [],
   "source": [
    "a, b = 2, 3\n",
    "x , y = np.array([[2],[3]]), np.array([[4], [5]])"
   ]
  },
  {
   "cell_type": "code",
   "execution_count": 49,
   "id": "b68781c5",
   "metadata": {},
   "outputs": [
    {
     "data": {
      "text/plain": [
       "array([[16],\n",
       "       [21]])"
      ]
     },
     "execution_count": 49,
     "metadata": {},
     "output_type": "execute_result"
    }
   ],
   "source": [
    "a*x + b*y"
   ]
  },
  {
   "cell_type": "markdown",
   "id": "7062ef0c",
   "metadata": {},
   "source": [
    "## Dot product or Inner product"
   ]
  },
  {
   "cell_type": "code",
   "execution_count": 50,
   "id": "ece6f6b4",
   "metadata": {},
   "outputs": [],
   "source": [
    "x, y = np.array([[-2],[2]]), np.array([[4],[-3]])"
   ]
  },
  {
   "cell_type": "code",
   "execution_count": 51,
   "id": "b92f2a60",
   "metadata": {},
   "outputs": [
    {
     "data": {
      "text/plain": [
       "array([[-14]])"
      ]
     },
     "execution_count": 51,
     "metadata": {},
     "output_type": "execute_result"
    }
   ],
   "source": [
    "x. T @ y"
   ]
  },
  {
   "cell_type": "markdown",
   "id": "a31b657f",
   "metadata": {},
   "source": [
    "## L2 Norm"
   ]
  },
  {
   "cell_type": "code",
   "execution_count": 52,
   "id": "8421e69a",
   "metadata": {},
   "outputs": [],
   "source": [
    "x = np.array([[3],[4]])"
   ]
  },
  {
   "cell_type": "code",
   "execution_count": 53,
   "id": "17c85cf4",
   "metadata": {},
   "outputs": [
    {
     "data": {
      "text/plain": [
       "5.0"
      ]
     },
     "execution_count": 53,
     "metadata": {},
     "output_type": "execute_result"
    }
   ],
   "source": [
    "np.linalg.norm(x, 2)"
   ]
  },
  {
   "cell_type": "markdown",
   "id": "f59c3532",
   "metadata": {},
   "source": [
    "## L1 Norm"
   ]
  },
  {
   "cell_type": "code",
   "execution_count": 54,
   "id": "a5be8bc0",
   "metadata": {},
   "outputs": [
    {
     "data": {
      "text/plain": [
       "7.0"
      ]
     },
     "execution_count": 54,
     "metadata": {},
     "output_type": "execute_result"
    }
   ],
   "source": [
    "x = np.array([[3],[-4]])\n",
    "\n",
    "np.linalg.norm(x, 1)"
   ]
  },
  {
   "cell_type": "markdown",
   "id": "3d865825",
   "metadata": {},
   "source": [
    "## L∞ Norm"
   ]
  },
  {
   "cell_type": "code",
   "execution_count": 55,
   "id": "1a6abda6",
   "metadata": {},
   "outputs": [
    {
     "data": {
      "text/plain": [
       "4.0"
      ]
     },
     "execution_count": 55,
     "metadata": {},
     "output_type": "execute_result"
    }
   ],
   "source": [
    "x = np.array([[3],[-4]])\n",
    "\n",
    "np.linalg.norm(x, np.inf)"
   ]
  },
  {
   "cell_type": "markdown",
   "id": "9495e74e",
   "metadata": {},
   "source": [
    "## L2 distance between a pair of vectors"
   ]
  },
  {
   "cell_type": "code",
   "execution_count": 56,
   "id": "30e87a28",
   "metadata": {},
   "outputs": [
    {
     "name": "stdout",
     "output_type": "stream",
     "text": [
      "L_2 distance : 1.4142135623730951\n"
     ]
    }
   ],
   "source": [
    "distance = np.linalg.norm(x-y, 2)\n",
    "print(f'L_2 distance : {distance}')"
   ]
  },
  {
   "cell_type": "markdown",
   "id": "56a036d3",
   "metadata": {},
   "source": [
    "## Compute the cosθ between a pair of vectors"
   ]
  },
  {
   "cell_type": "code",
   "execution_count": 57,
   "id": "3fa12bab",
   "metadata": {},
   "outputs": [],
   "source": [
    "x, y = np.array([[1], [2]]), np.array([[5], [7]])"
   ]
  },
  {
   "cell_type": "code",
   "execution_count": 58,
   "id": "b49beb64",
   "metadata": {},
   "outputs": [
    {
     "name": "stdout",
     "output_type": "stream",
     "text": [
      "cos of the angle = [[0.988]]\n"
     ]
    }
   ],
   "source": [
    "cos_theta = (x.T @ y) / (np.linalg.norm(x,2) * np.linalg.norm(y,2))\n",
    "print(f'cos of the angle = {np.round(cos_theta, 3)}')"
   ]
  },
  {
   "cell_type": "markdown",
   "id": "8a4ab439",
   "metadata": {},
   "source": [
    "## The exact value of θ we need to take the trigonometric inverse of the cosine function"
   ]
  },
  {
   "cell_type": "code",
   "execution_count": 59,
   "id": "57100530",
   "metadata": {},
   "outputs": [
    {
     "name": "stdout",
     "output_type": "stream",
     "text": [
      "angle in radiants = [[0.157]]\n"
     ]
    }
   ],
   "source": [
    "cos_inverse = np.arccos(cos_theta)\n",
    "print(f'angle in radiants = {np.round(cos_inverse, 3)}')"
   ]
  },
  {
   "cell_type": "code",
   "execution_count": 60,
   "id": "28197d3d",
   "metadata": {},
   "outputs": [
    {
     "name": "stdout",
     "output_type": "stream",
     "text": [
      "angle in degrees = [[8.973]]\n"
     ]
    }
   ],
   "source": [
    "degrees = cos_inverse * ((180)/np.pi)\n",
    "print(f'angle in degrees = {np.round(degrees, 3)}')"
   ]
  },
  {
   "cell_type": "markdown",
   "id": "ae9715f8",
   "metadata": {},
   "source": [
    "## Orthogonal vectors"
   ]
  },
  {
   "cell_type": "code",
   "execution_count": 61,
   "id": "561c9cba",
   "metadata": {},
   "outputs": [
    {
     "name": "stdout",
     "output_type": "stream",
     "text": [
      "cos of the angle = [[0.]]\n"
     ]
    }
   ],
   "source": [
    "x = np.array([[2], [0]])\n",
    "y = np.array([[0], [2]])\n",
    "cos_theta = (x.T @ y) / (np.linalg.norm(x,2) * np.linalg.norm(y,2))\n",
    "print(f'cos of the angle = {np.round(cos_theta, 3)}')"
   ]
  },
  {
   "cell_type": "code",
   "execution_count": 62,
   "id": "a8270db9",
   "metadata": {},
   "outputs": [
    {
     "name": "stdout",
     "output_type": "stream",
     "text": [
      "angle in radiants = [[1.571]]\n",
      "angle in degrees =[[90.]] \n"
     ]
    }
   ],
   "source": [
    "cos_inverse = np.arccos(cos_theta)\n",
    "degrees = cos_inverse * ((180)/np.pi)\n",
    "print(f'angle in radiants = {np.round(cos_inverse, 3)}\\nangle in degrees ={np.round(degrees, 3)} ')"
   ]
  },
  {
   "cell_type": "markdown",
   "id": "c1dd4033",
   "metadata": {},
   "source": [
    "## Systems of linear equations"
   ]
  },
  {
   "cell_type": "code",
   "execution_count": 63,
   "id": "7dd57681",
   "metadata": {},
   "outputs": [
    {
     "data": {
      "text/html": [
       "\n",
       "<div id=\"altair-viz-0de90841b8204f28a26b556d04328dbd\"></div>\n",
       "<script type=\"text/javascript\">\n",
       "  var VEGA_DEBUG = (typeof VEGA_DEBUG == \"undefined\") ? {} : VEGA_DEBUG;\n",
       "  (function(spec, embedOpt){\n",
       "    let outputDiv = document.currentScript.previousElementSibling;\n",
       "    if (outputDiv.id !== \"altair-viz-0de90841b8204f28a26b556d04328dbd\") {\n",
       "      outputDiv = document.getElementById(\"altair-viz-0de90841b8204f28a26b556d04328dbd\");\n",
       "    }\n",
       "    const paths = {\n",
       "      \"vega\": \"https://cdn.jsdelivr.net/npm//vega@5?noext\",\n",
       "      \"vega-lib\": \"https://cdn.jsdelivr.net/npm//vega-lib?noext\",\n",
       "      \"vega-lite\": \"https://cdn.jsdelivr.net/npm//vega-lite@4.17.0?noext\",\n",
       "      \"vega-embed\": \"https://cdn.jsdelivr.net/npm//vega-embed@6?noext\",\n",
       "    };\n",
       "\n",
       "    function maybeLoadScript(lib, version) {\n",
       "      var key = `${lib.replace(\"-\", \"\")}_version`;\n",
       "      return (VEGA_DEBUG[key] == version) ?\n",
       "        Promise.resolve(paths[lib]) :\n",
       "        new Promise(function(resolve, reject) {\n",
       "          var s = document.createElement('script');\n",
       "          document.getElementsByTagName(\"head\")[0].appendChild(s);\n",
       "          s.async = true;\n",
       "          s.onload = () => {\n",
       "            VEGA_DEBUG[key] = version;\n",
       "            return resolve(paths[lib]);\n",
       "          };\n",
       "          s.onerror = () => reject(`Error loading script: ${paths[lib]}`);\n",
       "          s.src = paths[lib];\n",
       "        });\n",
       "    }\n",
       "\n",
       "    function showError(err) {\n",
       "      outputDiv.innerHTML = `<div class=\"error\" style=\"color:red;\">${err}</div>`;\n",
       "      throw err;\n",
       "    }\n",
       "\n",
       "    function displayChart(vegaEmbed) {\n",
       "      vegaEmbed(outputDiv, spec, embedOpt)\n",
       "        .catch(err => showError(`Javascript Error: ${err.message}<br>This usually means there's a typo in your chart specification. See the javascript console for the full traceback.`));\n",
       "    }\n",
       "\n",
       "    if(typeof define === \"function\" && define.amd) {\n",
       "      requirejs.config({paths});\n",
       "      require([\"vega-embed\"], displayChart, err => showError(`Error loading script: ${err.message}`));\n",
       "    } else {\n",
       "      maybeLoadScript(\"vega\", \"5\")\n",
       "        .then(() => maybeLoadScript(\"vega-lite\", \"4.17.0\"))\n",
       "        .then(() => maybeLoadScript(\"vega-embed\", \"6\"))\n",
       "        .catch(showError)\n",
       "        .then(() => displayChart(vegaEmbed));\n",
       "    }\n",
       "  })({\"config\": {\"view\": {\"continuousWidth\": 400, \"continuousHeight\": 300}}, \"layer\": [{\"mark\": \"line\", \"encoding\": {\"x\": {\"field\": \"x1\", \"type\": \"quantitative\"}, \"y\": {\"field\": \"y1\", \"type\": \"quantitative\"}}}, {\"mark\": {\"type\": \"line\", \"color\": \"red\"}, \"encoding\": {\"x\": {\"field\": \"x2\", \"type\": \"quantitative\"}, \"y\": {\"field\": \"y2\", \"type\": \"quantitative\"}}}], \"data\": {\"name\": \"data-57ffab6a26a928c2ff17e40b29b8a272\"}, \"$schema\": \"https://vega.github.io/schema/vega-lite/v4.17.0.json\", \"datasets\": {\"data-57ffab6a26a928c2ff17e40b29b8a272\": [{\"x1\": 0, \"y1\": 8, \"x2\": 0.5, \"y2\": 0}, {\"x1\": 2, \"y1\": 3, \"x2\": 2.0, \"y2\": 3}]}}, {\"mode\": \"vega-lite\"});\n",
       "</script>"
      ],
      "text/plain": [
       "alt.LayerChart(...)"
      ]
     },
     "execution_count": 63,
     "metadata": {},
     "output_type": "execute_result"
    }
   ],
   "source": [
    "df = pd.DataFrame({\"x1\": [0, 2], \"y1\":[8, 3], \"x2\": [0.5, 2], \"y2\": [0, 3]})\n",
    "equation1 = alt.Chart(df).mark_line().encode(x=\"x1\", y=\"y1\")\n",
    "equation2 = alt.Chart(df).mark_line(color=\"red\").encode(x=\"x2\", y=\"y2\")\n",
    "equation1 + equation2"
   ]
  }
 ],
 "metadata": {
  "kernelspec": {
   "display_name": "Python 3 (ipykernel)",
   "language": "python",
   "name": "python3"
  },
  "language_info": {
   "codemirror_mode": {
    "name": "ipython",
    "version": 3
   },
   "file_extension": ".py",
   "mimetype": "text/x-python",
   "name": "python",
   "nbconvert_exporter": "python",
   "pygments_lexer": "ipython3",
   "version": "3.9.7"
  }
 },
 "nbformat": 4,
 "nbformat_minor": 5
}
